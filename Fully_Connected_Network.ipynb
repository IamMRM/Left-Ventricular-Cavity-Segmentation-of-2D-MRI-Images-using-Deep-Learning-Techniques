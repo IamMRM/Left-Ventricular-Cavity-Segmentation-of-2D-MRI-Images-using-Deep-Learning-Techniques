{
 "cells": [
  {
   "cell_type": "code",
   "execution_count": 37,
   "metadata": {},
   "outputs": [],
   "source": [
    "import torch\n",
    "from torchvision import transforms, datasets, models\n",
    "import torch.nn as nn"
   ]
  },
  {
   "cell_type": "code",
   "execution_count": 38,
   "metadata": {},
   "outputs": [],
   "source": [
    "def double_conv2D(in_channel,out_channel):\n",
    "    conv= nn.Sequential(\n",
    "        nn.Conv2d(in_channel,out_channel,kernel_size=3,padding=1),\n",
    "        nn.ReLU(inplace=True),\n",
    "        nn.Conv2d(out_channel,out_channel,kernel_size=3,padding=1),\n",
    "        nn.ReLU(inplace=True))\n",
    "    return conv"
   ]
  },
  {
   "cell_type": "code",
   "execution_count": 39,
   "metadata": {},
   "outputs": [],
   "source": [
    "def tripple_conv2D(in_channel,out_channel):\n",
    "    conv= nn.Sequential(\n",
    "        nn.Conv2d(in_channel,out_channel,kernel_size=3,padding=1),\n",
    "        nn.ReLU(inplace=True),\n",
    "        nn.Conv2d(out_channel,out_channel,kernel_size=3,padding=1),\n",
    "        nn.ReLU(inplace=True),\n",
    "        nn.Conv2d(out_channel,out_channel,kernel_size=3,padding=1),\n",
    "        nn.ReLU(inplace=True))\n",
    "    return conv"
   ]
  },
  {
   "cell_type": "code",
   "execution_count": 40,
   "metadata": {},
   "outputs": [],
   "source": [
    "class FC(nn.Module):\n",
    "    def __init__(self):\n",
    "        super(FC,self).__init__()\n",
    "        self.conv1= double_conv2D(1,64)\n",
    "        self.maxpool2D_1 = nn.MaxPool2d(kernel_size=2,stride=2,padding=0)\n",
    "        self.conv2= double_conv2D(64,128)\n",
    "        self.maxpool2D_2 = nn.MaxPool2d(kernel_size=2,stride=2,padding=0)\n",
    "        self.conv3= tripple_conv2D(128,256)\n",
    "        self.maxpool2D_3 = nn.MaxPool2d(kernel_size=2,stride=2,padding=0)\n",
    "        self.conv4= tripple_conv2D(256,512)\n",
    "        self.maxpool2D_4 = nn.MaxPool2d(kernel_size=2,stride=2,padding=0)\n",
    "        self.conv5= tripple_conv2D(512,512)\n",
    "        self.maxpool2D_5 = nn.MaxPool2d(kernel_size=2,stride=2,padding=0)\n",
    "        self.conv6= nn.Sequential(nn.Conv2d(512,4096,kernel_size=3,padding=1),nn.ReLU(inplace=True))\n",
    "        self.conv7= nn.Sequential(nn.Conv2d(4096,4096,kernel_size=1,padding=0),nn.ReLU(inplace=True))\n",
    "        \n",
    "        self.score5=nn.Sequential(nn.Conv2d(4096,2,kernel_size=1,padding=0),nn.ReLU(inplace=True))\n",
    "        self.score4=nn.Sequential(nn.Conv2d(512,2,kernel_size=1,padding=0),nn.ReLU(inplace=True))\n",
    "        self.score3=nn.Sequential(nn.Conv2d(256,2,kernel_size=1,padding=0),nn.ReLU(inplace=True))        \n",
    "        \n",
    "        self.upscore1 = nn.ConvTranspose2d(2,2,kernel_size=4,stride=2,padding=1)\n",
    "        self.upscore2 = nn.ConvTranspose2d(2,2,kernel_size=4,stride=2,padding=1)\n",
    "        self.upscore3 = nn.ConvTranspose2d(2,2,kernel_size=16,stride=8,padding=4)\n",
    "        \n",
    "    def forward(self,img):\n",
    "        #encorder\n",
    "        x1 = self.conv1(img)\n",
    "\n",
    "        x2 = self.maxpool2D_1(x1)\n",
    "\n",
    "        x3 = self.conv2(x2)\n",
    "        x4 = self.maxpool2D_2(x3)\n",
    "        x5 = self.conv3(x4)\n",
    "        x6 = self.maxpool2D_3(x5)\n",
    "        x7 = self.conv4(x6)\n",
    "        x8 = self.maxpool2D_4(x7)\n",
    "        x9 = self.conv5(x8)\n",
    "        x10 = self.maxpool2D_5(x9)\n",
    "        x11 = self.conv6(x10)\n",
    "        print(x11.size())\n",
    "        x12 = self.conv7(x11)\n",
    "        print(x12.size())\n",
    "        \n",
    "        s5 = self.score5(x12)\n",
    "        print(s5.size())\n",
    "        s4 = self.score4(x8)\n",
    "        s3 = self.score3(x6)\n",
    "        \n",
    "        us1= self.upscore1(s5)\n",
    "        summ1 = us1+s4\n",
    "        us2 = self.upscore2(summ1)\n",
    "        summ2= us2+s3\n",
    "        us3 = self.upscore3(summ2)\n",
    "        return us3"
   ]
  },
  {
   "cell_type": "code",
   "execution_count": 41,
   "metadata": {},
   "outputs": [
    {
     "name": "stdout",
     "output_type": "stream",
     "text": [
      "torch.Size([4, 4096, 7, 7])\n",
      "torch.Size([4, 4096, 7, 7])\n",
      "torch.Size([4, 2, 7, 7])\n"
     ]
    },
    {
     "data": {
      "text/plain": [
       "tensor([[[[-0.0346, -0.0332, -0.0391,  ..., -0.0387, -0.0330, -0.0296],\n",
       "          [-0.0341, -0.0315, -0.0368,  ..., -0.0283, -0.0372, -0.0393],\n",
       "          [-0.0315, -0.0306, -0.0311,  ..., -0.0294, -0.0302, -0.0319],\n",
       "          ...,\n",
       "          [-0.0322, -0.0296, -0.0342,  ..., -0.0379, -0.0331, -0.0323],\n",
       "          [-0.0338, -0.0320, -0.0343,  ..., -0.0369, -0.0333, -0.0342],\n",
       "          [-0.0321, -0.0359, -0.0349,  ..., -0.0310, -0.0333, -0.0331]],\n",
       "\n",
       "         [[-0.0268, -0.0342, -0.0364,  ..., -0.0366, -0.0333, -0.0259],\n",
       "          [-0.0349, -0.0316, -0.0372,  ..., -0.0271, -0.0320, -0.0259],\n",
       "          [-0.0256, -0.0261, -0.0304,  ..., -0.0343, -0.0269, -0.0323],\n",
       "          ...,\n",
       "          [-0.0346, -0.0322, -0.0310,  ..., -0.0375, -0.0283, -0.0295],\n",
       "          [-0.0304, -0.0325, -0.0313,  ..., -0.0335, -0.0353, -0.0346],\n",
       "          [-0.0336, -0.0288, -0.0307,  ..., -0.0319, -0.0258, -0.0262]]],\n",
       "\n",
       "\n",
       "        [[[-0.0346, -0.0332, -0.0391,  ..., -0.0387, -0.0330, -0.0296],\n",
       "          [-0.0341, -0.0315, -0.0368,  ..., -0.0283, -0.0372, -0.0393],\n",
       "          [-0.0315, -0.0306, -0.0311,  ..., -0.0294, -0.0302, -0.0319],\n",
       "          ...,\n",
       "          [-0.0322, -0.0296, -0.0342,  ..., -0.0379, -0.0331, -0.0323],\n",
       "          [-0.0338, -0.0320, -0.0343,  ..., -0.0369, -0.0333, -0.0342],\n",
       "          [-0.0321, -0.0359, -0.0349,  ..., -0.0310, -0.0333, -0.0331]],\n",
       "\n",
       "         [[-0.0268, -0.0342, -0.0364,  ..., -0.0366, -0.0333, -0.0259],\n",
       "          [-0.0349, -0.0316, -0.0372,  ..., -0.0271, -0.0320, -0.0259],\n",
       "          [-0.0256, -0.0261, -0.0304,  ..., -0.0343, -0.0269, -0.0323],\n",
       "          ...,\n",
       "          [-0.0346, -0.0322, -0.0310,  ..., -0.0375, -0.0283, -0.0295],\n",
       "          [-0.0304, -0.0325, -0.0313,  ..., -0.0335, -0.0353, -0.0346],\n",
       "          [-0.0336, -0.0288, -0.0307,  ..., -0.0319, -0.0258, -0.0262]]],\n",
       "\n",
       "\n",
       "        [[[-0.0346, -0.0332, -0.0391,  ..., -0.0387, -0.0330, -0.0296],\n",
       "          [-0.0341, -0.0315, -0.0368,  ..., -0.0283, -0.0372, -0.0393],\n",
       "          [-0.0315, -0.0306, -0.0311,  ..., -0.0294, -0.0302, -0.0319],\n",
       "          ...,\n",
       "          [-0.0322, -0.0296, -0.0342,  ..., -0.0379, -0.0331, -0.0323],\n",
       "          [-0.0338, -0.0320, -0.0343,  ..., -0.0369, -0.0333, -0.0342],\n",
       "          [-0.0321, -0.0359, -0.0349,  ..., -0.0310, -0.0333, -0.0331]],\n",
       "\n",
       "         [[-0.0268, -0.0342, -0.0364,  ..., -0.0366, -0.0333, -0.0259],\n",
       "          [-0.0349, -0.0316, -0.0372,  ..., -0.0271, -0.0320, -0.0259],\n",
       "          [-0.0256, -0.0261, -0.0304,  ..., -0.0343, -0.0269, -0.0323],\n",
       "          ...,\n",
       "          [-0.0346, -0.0322, -0.0310,  ..., -0.0375, -0.0283, -0.0295],\n",
       "          [-0.0304, -0.0325, -0.0313,  ..., -0.0335, -0.0353, -0.0346],\n",
       "          [-0.0336, -0.0288, -0.0307,  ..., -0.0319, -0.0258, -0.0262]]],\n",
       "\n",
       "\n",
       "        [[[-0.0346, -0.0332, -0.0391,  ..., -0.0387, -0.0330, -0.0296],\n",
       "          [-0.0341, -0.0315, -0.0368,  ..., -0.0283, -0.0372, -0.0393],\n",
       "          [-0.0315, -0.0306, -0.0311,  ..., -0.0294, -0.0302, -0.0319],\n",
       "          ...,\n",
       "          [-0.0322, -0.0296, -0.0342,  ..., -0.0379, -0.0331, -0.0323],\n",
       "          [-0.0338, -0.0320, -0.0343,  ..., -0.0369, -0.0333, -0.0342],\n",
       "          [-0.0321, -0.0359, -0.0349,  ..., -0.0310, -0.0333, -0.0331]],\n",
       "\n",
       "         [[-0.0268, -0.0342, -0.0364,  ..., -0.0366, -0.0333, -0.0259],\n",
       "          [-0.0349, -0.0316, -0.0372,  ..., -0.0271, -0.0320, -0.0259],\n",
       "          [-0.0256, -0.0261, -0.0304,  ..., -0.0343, -0.0269, -0.0323],\n",
       "          ...,\n",
       "          [-0.0346, -0.0322, -0.0310,  ..., -0.0375, -0.0283, -0.0295],\n",
       "          [-0.0304, -0.0325, -0.0313,  ..., -0.0335, -0.0353, -0.0346],\n",
       "          [-0.0336, -0.0288, -0.0307,  ..., -0.0319, -0.0258, -0.0262]]]],\n",
       "       grad_fn=<ConvTranspose2DBackward>)"
      ]
     },
     "execution_count": 41,
     "metadata": {},
     "output_type": "execute_result"
    }
   ],
   "source": [
    "#for testing\n",
    "img = torch.rand((4,1,224,224))\n",
    "model = FC()\n",
    "model(img)"
   ]
  },
  {
   "cell_type": "code",
   "execution_count": 35,
   "metadata": {},
   "outputs": [
    {
     "name": "stdout",
     "output_type": "stream",
     "text": [
      "FC(\n",
      "  (conv1): Sequential(\n",
      "    (0): Conv2d(1, 64, kernel_size=(3, 3), stride=(1, 1), padding=(1, 1))\n",
      "    (1): ReLU(inplace=True)\n",
      "    (2): Conv2d(64, 64, kernel_size=(3, 3), stride=(1, 1), padding=(1, 1))\n",
      "    (3): ReLU(inplace=True)\n",
      "  )\n",
      "  (maxpool2D_1): MaxPool2d(kernel_size=2, stride=2, padding=0, dilation=1, ceil_mode=False)\n",
      "  (conv2): Sequential(\n",
      "    (0): Conv2d(64, 128, kernel_size=(3, 3), stride=(1, 1), padding=(1, 1))\n",
      "    (1): ReLU(inplace=True)\n",
      "    (2): Conv2d(128, 128, kernel_size=(3, 3), stride=(1, 1), padding=(1, 1))\n",
      "    (3): ReLU(inplace=True)\n",
      "  )\n",
      "  (maxpool2D_2): MaxPool2d(kernel_size=2, stride=2, padding=0, dilation=1, ceil_mode=False)\n",
      "  (conv3): Sequential(\n",
      "    (0): Conv2d(128, 256, kernel_size=(3, 3), stride=(1, 1), padding=(1, 1))\n",
      "    (1): ReLU(inplace=True)\n",
      "    (2): Conv2d(256, 256, kernel_size=(3, 3), stride=(1, 1), padding=(1, 1))\n",
      "    (3): ReLU(inplace=True)\n",
      "    (4): Conv2d(256, 256, kernel_size=(3, 3), stride=(1, 1), padding=(1, 1))\n",
      "    (5): ReLU(inplace=True)\n",
      "  )\n",
      "  (maxpool2D_3): MaxPool2d(kernel_size=2, stride=2, padding=0, dilation=1, ceil_mode=False)\n",
      "  (conv4): Sequential(\n",
      "    (0): Conv2d(256, 512, kernel_size=(3, 3), stride=(1, 1), padding=(1, 1))\n",
      "    (1): ReLU(inplace=True)\n",
      "    (2): Conv2d(512, 512, kernel_size=(3, 3), stride=(1, 1), padding=(1, 1))\n",
      "    (3): ReLU(inplace=True)\n",
      "    (4): Conv2d(512, 512, kernel_size=(3, 3), stride=(1, 1), padding=(1, 1))\n",
      "    (5): ReLU(inplace=True)\n",
      "  )\n",
      "  (maxpool2D_4): MaxPool2d(kernel_size=2, stride=2, padding=0, dilation=1, ceil_mode=False)\n",
      "  (conv5): Sequential(\n",
      "    (0): Conv2d(512, 512, kernel_size=(3, 3), stride=(1, 1), padding=(1, 1))\n",
      "    (1): ReLU(inplace=True)\n",
      "    (2): Conv2d(512, 512, kernel_size=(3, 3), stride=(1, 1), padding=(1, 1))\n",
      "    (3): ReLU(inplace=True)\n",
      "    (4): Conv2d(512, 512, kernel_size=(3, 3), stride=(1, 1), padding=(1, 1))\n",
      "    (5): ReLU(inplace=True)\n",
      "  )\n",
      "  (maxpool2D_5): MaxPool2d(kernel_size=2, stride=2, padding=0, dilation=1, ceil_mode=False)\n",
      "  (conv6): Sequential(\n",
      "    (0): Conv2d(512, 4096, kernel_size=(3, 3), stride=(1, 1), padding=(1, 1))\n",
      "    (1): ReLU(inplace=True)\n",
      "  )\n",
      "  (conv7): Sequential(\n",
      "    (0): Conv2d(4096, 4096, kernel_size=(1, 1), stride=(1, 1))\n",
      "    (1): ReLU(inplace=True)\n",
      "  )\n",
      "  (score5): Sequential(\n",
      "    (0): Conv2d(4096, 2, kernel_size=(1, 1), stride=(1, 1))\n",
      "    (1): ReLU(inplace=True)\n",
      "  )\n",
      "  (score4): Sequential(\n",
      "    (0): Conv2d(512, 2, kernel_size=(1, 1), stride=(1, 1))\n",
      "    (1): ReLU(inplace=True)\n",
      "  )\n",
      "  (score3): Sequential(\n",
      "    (0): Conv2d(256, 2, kernel_size=(1, 1), stride=(1, 1))\n",
      "    (1): ReLU(inplace=True)\n",
      "  )\n",
      "  (upscore1): ConvTranspose2d(2, 2, kernel_size=(4, 4), stride=(2, 2), padding=(1, 1))\n",
      "  (upscore2): ConvTranspose2d(2, 2, kernel_size=(4, 4), stride=(2, 2), padding=(1, 1))\n",
      "  (upscore3): ConvTranspose2d(2, 2, kernel_size=(16, 16), stride=(8, 8), padding=(4, 4))\n",
      ")\n"
     ]
    }
   ],
   "source": [
    "print(model)"
   ]
  },
  {
   "cell_type": "code",
   "execution_count": 36,
   "metadata": {},
   "outputs": [
    {
     "name": "stdout",
     "output_type": "stream",
     "text": [
      "torch.Size([4, 4096, 7, 7])\n",
      "torch.Size([4, 4096, 7, 7])\n",
      "torch.Size([4, 2, 7, 7])\n"
     ]
    },
    {
     "data": {
      "text/plain": [
       "torch.Size([4, 2, 224, 224])"
      ]
     },
     "execution_count": 36,
     "metadata": {},
     "output_type": "execute_result"
    }
   ],
   "source": [
    "model(img).shape"
   ]
  },
  {
   "cell_type": "code",
   "execution_count": 9,
   "metadata": {},
   "outputs": [
    {
     "data": {
      "text/plain": [
       "ZeroPad2d(padding=(92, 92, 92, 92), value=0.0)"
      ]
     },
     "execution_count": 9,
     "metadata": {},
     "output_type": "execute_result"
    }
   ],
   "source": [
    "nn.ZeroPad2d(92)"
   ]
  },
  {
   "cell_type": "code",
   "execution_count": null,
   "metadata": {},
   "outputs": [],
   "source": []
  }
 ],
 "metadata": {
  "kernelspec": {
   "display_name": "Python 3",
   "language": "python",
   "name": "python3"
  },
  "language_info": {
   "codemirror_mode": {
    "name": "ipython",
    "version": 3
   },
   "file_extension": ".py",
   "mimetype": "text/x-python",
   "name": "python",
   "nbconvert_exporter": "python",
   "pygments_lexer": "ipython3",
   "version": "3.6.8"
  }
 },
 "nbformat": 4,
 "nbformat_minor": 4
}
