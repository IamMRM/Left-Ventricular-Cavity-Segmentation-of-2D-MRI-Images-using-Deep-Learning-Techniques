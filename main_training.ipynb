{
 "cells": [
  {
   "cell_type": "code",
   "execution_count": 1,
   "metadata": {},
   "outputs": [],
   "source": [
    "import matplotlib.pyplot as plt\n",
    "import numpy as np\n",
    "import os\n",
    "# ^^^ pyforest auto-imports - don't write above this line\n",
    "from torch.utils.data import Dataset, DataLoader\n",
    "from torchvision import transforms, datasets, models\n",
    "from collections import defaultdict\n",
    "import torch.nn.functional as F\n",
    "import torch\n",
    "import torch.nn as nn\n",
    "import torch.optim as optim\n",
    "from torch.optim import lr_scheduler\n",
    "import time\n",
    "import copy\n",
    "import h5py"
   ]
  },
  {
   "cell_type": "code",
   "execution_count": 5,
   "metadata": {},
   "outputs": [],
   "source": [
    "model_name=\"unet\"#\"fcn\"\n",
    "device = torch.device('cuda' if torch.cuda.is_available() else 'cpu')\n",
    "num_epochs = 50"
   ]
  },
  {
   "cell_type": "code",
   "execution_count": 6,
   "metadata": {},
   "outputs": [
    {
     "data": {
      "text/plain": [
       "\"def to_categorical(y, num_classes):\\n    return np.eye(num_classes, dtype='uint8')[y]\""
      ]
     },
     "execution_count": 6,
     "metadata": {},
     "output_type": "execute_result"
    }
   ],
   "source": [
    "\"\"\"def to_categorical(y, num_classes):\n",
    "    return np.eye(num_classes, dtype='uint8')[y]\"\"\""
   ]
  },
  {
   "cell_type": "code",
   "execution_count": 9,
   "metadata": {},
   "outputs": [],
   "source": [
    "class SimDataset(Dataset):\n",
    "    def __init__(self, train=True):\n",
    "        if model_name == \"fcn\":\n",
    "            dataset = h5py.File(r'\\training\\fc_data\\data_2D_size_224_224_res_1.36719_1.36719.hdf5','r')\n",
    "        elif model_name == \"unet\":\n",
    "            dataset = h5py.File(r'D:\\Work\\Med Proj\\training\\unet_data\\data_2D_size_212_212_res_1.36719_1.36719.hdf5','r')\n",
    "        \n",
    "        if train:\n",
    "            self.input_images, self.target_masks = dataset['images_train'],dataset['masks_train']\n",
    "        else:\n",
    "            self.input_images, self.target_masks = dataset['images_test'],dataset['masks_test']\n",
    "\n",
    "    def __len__(self):\n",
    "        return len(self.input_images)\n",
    "\n",
    "    def __getitem__(self, idx):\n",
    "        image = self.input_images[idx]\n",
    "        mask = self.target_masks[idx]\n",
    "        mask[mask == 1] = 0\n",
    "        mask[mask == 2] = 0\n",
    "        mask[mask == 3] = 1\n",
    "        \n",
    "        if model_name == \"unet\":\n",
    "            x = np.zeros((1,212, 212))\n",
    "        elif model_name == \"fcn\":\n",
    "            x = np.zeros((1,224, 224))\n",
    "        x[0,:image.shape[0], :image.shape[1]] = image\n",
    "        \n",
    "        #m=np.zeros((2,224,224))\n",
    "        \"\"\"k=to_categorical(mask,2)\n",
    "        print(np.rollaxis(k,-1).shape)\"\"\"\n",
    "        #m[:,:mask.shape[0], :mask.shape[1]] = np.rollaxis(to_categorical(mask,2),-1)\n",
    "        return [torch.Tensor(x), torch.Tensor(mask).unsqueeze(0)]"
   ]
  },
  {
   "cell_type": "code",
   "execution_count": 10,
   "metadata": {},
   "outputs": [],
   "source": [
    "train_set = SimDataset(True)\n",
    "val_set = SimDataset(False)\n",
    "\n",
    "image_datasets = {\n",
    "    'train': train_set, 'val': val_set\n",
    "}\n",
    "\n",
    "batch_size = 8\n",
    "dataloaders = {\n",
    "    'train': DataLoader(train_set, batch_size=batch_size, shuffle=True, num_workers=0),\n",
    "    'val': DataLoader(val_set, batch_size=batch_size, shuffle=True, num_workers=0)\n",
    "}"
   ]
  },
  {
   "cell_type": "code",
   "execution_count": 11,
   "metadata": {},
   "outputs": [],
   "source": [
    "inputs, masks = next(iter(dataloaders['train']))"
   ]
  },
  {
   "cell_type": "code",
   "execution_count": 12,
   "metadata": {},
   "outputs": [
    {
     "name": "stdout",
     "output_type": "stream",
     "text": [
      "torch.Size([8, 1, 212, 212]) torch.Size([8, 1, 212, 212])\n"
     ]
    }
   ],
   "source": [
    "print(inputs.shape, masks.shape)"
   ]
  },
  {
   "cell_type": "code",
   "execution_count": 13,
   "metadata": {
    "scrolled": true
   },
   "outputs": [],
   "source": [
    "if model_name == \"unet\":\n",
    "    import modified_ap3net_model\n",
    "    model = modified_ap3net_model.Unet()\n",
    "elif model_name == \"fcn\":\n",
    "    import Fully_Connected_Network\n",
    "    model = Fully_Connected_Network.FC()"
   ]
  },
  {
   "cell_type": "code",
   "execution_count": 14,
   "metadata": {},
   "outputs": [],
   "source": [
    "model = model.to(device)"
   ]
  },
  {
   "cell_type": "code",
   "execution_count": 15,
   "metadata": {
    "scrolled": false
   },
   "outputs": [
    {
     "name": "stdout",
     "output_type": "stream",
     "text": [
      "----------------------------------------------------------------\n",
      "        Layer (type)               Output Shape         Param #\n",
      "================================================================\n",
      "         ZeroPad2d-1          [-1, 1, 396, 396]               0\n",
      "            Conv2d-2         [-1, 64, 394, 394]             640\n",
      "              ReLU-3         [-1, 64, 394, 394]               0\n",
      "            Conv2d-4         [-1, 64, 392, 392]          36,928\n",
      "              ReLU-5         [-1, 64, 392, 392]               0\n",
      "         MaxPool2d-6         [-1, 64, 196, 196]               0\n",
      "            Conv2d-7        [-1, 128, 194, 194]          73,856\n",
      "              ReLU-8        [-1, 128, 194, 194]               0\n",
      "            Conv2d-9        [-1, 128, 192, 192]         147,584\n",
      "             ReLU-10        [-1, 128, 192, 192]               0\n",
      "        MaxPool2d-11          [-1, 128, 96, 96]               0\n",
      "           Conv2d-12          [-1, 256, 94, 94]         295,168\n",
      "             ReLU-13          [-1, 256, 94, 94]               0\n",
      "           Conv2d-14          [-1, 256, 92, 92]         590,080\n",
      "             ReLU-15          [-1, 256, 92, 92]               0\n",
      "        MaxPool2d-16          [-1, 256, 46, 46]               0\n",
      "           Conv2d-17          [-1, 512, 44, 44]       1,180,160\n",
      "             ReLU-18          [-1, 512, 44, 44]               0\n",
      "           Conv2d-19          [-1, 512, 42, 42]       2,359,808\n",
      "             ReLU-20          [-1, 512, 42, 42]               0\n",
      "        MaxPool2d-21          [-1, 512, 21, 21]               0\n",
      "           Conv2d-22         [-1, 1024, 19, 19]       4,719,616\n",
      "             ReLU-23         [-1, 1024, 19, 19]               0\n",
      "           Conv2d-24         [-1, 1024, 17, 17]       9,438,208\n",
      "             ReLU-25         [-1, 1024, 17, 17]               0\n",
      "  ConvTranspose2d-26          [-1, 512, 34, 34]       8,389,120\n",
      "           Conv2d-27          [-1, 512, 32, 32]       4,719,104\n",
      "             ReLU-28          [-1, 512, 32, 32]               0\n",
      "           Conv2d-29          [-1, 512, 30, 30]       2,359,808\n",
      "             ReLU-30          [-1, 512, 30, 30]               0\n",
      "  ConvTranspose2d-31          [-1, 256, 60, 60]       2,097,408\n",
      "           Conv2d-32          [-1, 256, 58, 58]       1,179,904\n",
      "             ReLU-33          [-1, 256, 58, 58]               0\n",
      "           Conv2d-34          [-1, 256, 56, 56]         590,080\n",
      "             ReLU-35          [-1, 256, 56, 56]               0\n",
      "  ConvTranspose2d-36        [-1, 128, 112, 112]         524,416\n",
      "           Conv2d-37        [-1, 128, 110, 110]         295,040\n",
      "             ReLU-38        [-1, 128, 110, 110]               0\n",
      "           Conv2d-39        [-1, 128, 108, 108]         147,584\n",
      "             ReLU-40        [-1, 128, 108, 108]               0\n",
      "  ConvTranspose2d-41         [-1, 64, 216, 216]         131,136\n",
      "           Conv2d-42         [-1, 64, 214, 214]          73,792\n",
      "             ReLU-43         [-1, 64, 214, 214]               0\n",
      "           Conv2d-44         [-1, 64, 212, 212]          36,928\n",
      "             ReLU-45         [-1, 64, 212, 212]               0\n",
      "           Conv2d-46          [-1, 1, 212, 212]              65\n",
      "================================================================\n",
      "Total params: 39,386,433\n",
      "Trainable params: 39,386,433\n",
      "Non-trainable params: 0\n",
      "----------------------------------------------------------------\n",
      "Input size (MB): 0.17\n",
      "Forward/backward pass size (MB): 810.99\n",
      "Params size (MB): 150.25\n",
      "Estimated Total Size (MB): 961.41\n",
      "----------------------------------------------------------------\n"
     ]
    }
   ],
   "source": [
    "# check keras-like model summary using torchsummary\n",
    "from torchsummary import summary\n",
    "if model_name == \"fcn\":\n",
    "    summary(model, input_size=(1, 224, 224))\n",
    "elif model_name == \"unet\":\n",
    "    summary(model, input_size=(1, 212, 212))"
   ]
  },
  {
   "cell_type": "code",
   "execution_count": 16,
   "metadata": {},
   "outputs": [],
   "source": [
    "def dice_loss(pred, target, smooth = 1.):\n",
    "    pred = pred.contiguous()\n",
    "    target = target.contiguous()    \n",
    "\n",
    "    intersection = (pred * target).sum(dim=2).sum(dim=2)\n",
    "    \n",
    "    loss = (1 - ((2. * intersection + smooth) / (pred.sum(dim=2).sum(dim=2) + target.sum(dim=2).sum(dim=2) + smooth)))\n",
    "    \n",
    "    return loss.mean()"
   ]
  },
  {
   "cell_type": "code",
   "execution_count": 17,
   "metadata": {},
   "outputs": [],
   "source": [
    "validation_loss = []\n",
    "trains_loss = []"
   ]
  },
  {
   "cell_type": "code",
   "execution_count": 18,
   "metadata": {},
   "outputs": [],
   "source": [
    "def calc_loss(pred, target, metrics, bce_weight=0.5):\n",
    "    bce = F.binary_cross_entropy_with_logits(pred, target)\n",
    "\n",
    "    pred = F.sigmoid(pred)\n",
    "    dice = dice_loss(pred, target)\n",
    "\n",
    "    loss = bce * bce_weight + dice * (1 - bce_weight)\n",
    "\n",
    "    metrics['bce'] += bce.data.cpu().numpy() * target.size(0)\n",
    "    metrics['dice'] += dice.data.cpu().numpy() * target.size(0)\n",
    "    metrics['loss'] += loss.data.cpu().numpy() * target.size(0)\n",
    "\n",
    "    return loss\n",
    "\n",
    "def print_metrics(metrics, epoch_samples, phase):\n",
    "    outputs = []\n",
    "    for k in metrics.keys():\n",
    "        outputs.append(\"{}: {:4f}\".format(k, metrics[k] / epoch_samples))\n",
    "    \n",
    "    if phase == \"train\":\n",
    "        trains_loss.append(outputs)\n",
    "    else:\n",
    "        validation_loss.append(outputs)\n",
    "    print(\"{}: {}\".format(phase, \", \".join(outputs)))\n",
    "\n",
    "def train_model(model, optimizer, scheduler, num_epochs=100):\n",
    "    best_model_wts = copy.deepcopy(model.state_dict())\n",
    "    best_loss = 1e10\n",
    "\n",
    "    for epoch in range(num_epochs):\n",
    "        print('Epoch {}/{}'.format(epoch, num_epochs - 1))\n",
    "        print('-' * 10)\n",
    "        since = time.time()\n",
    "        # Each epoch has a training and validation phase\n",
    "        for phase in ['train', 'val']:\n",
    "            if phase == 'train':\n",
    "                scheduler.step()\n",
    "                for param_group in optimizer.param_groups:\n",
    "                    print(\"LR\", param_group['lr'])\n",
    "\n",
    "                model.train()  # Set model to training mode\n",
    "            else:\n",
    "                model.eval()   # Set model to evaluate mode\n",
    "            metrics = defaultdict(float)\n",
    "            epoch_samples = 0\n",
    "            for inputs, labels in dataloaders[phase]:\n",
    "                inputs = inputs.to(device)\n",
    "                labels = labels.to(device)\n",
    "                # zero the parameter gradients\n",
    "                optimizer.zero_grad()\n",
    "                # forward\n",
    "                # track history if only in train\n",
    "                with torch.set_grad_enabled(phase == 'train'):\n",
    "                    outputs = model(inputs)\n",
    "                    loss = calc_loss(outputs, labels, metrics)\n",
    "                    # backward + optimize only if in training phase\n",
    "                    if phase == 'train':\n",
    "                        loss.backward()\n",
    "                        optimizer.step()\n",
    "                # statistics\n",
    "                epoch_samples += inputs.size(0)\n",
    "            print_metrics(metrics, epoch_samples, phase)\n",
    "            epoch_loss = metrics['loss'] / epoch_samples\n",
    "            # deep copy the model\n",
    "            if phase == 'val' and epoch_loss < best_loss:\n",
    "                print(\"saving best model\")\n",
    "                best_loss = epoch_loss\n",
    "                best_model_wts = copy.deepcopy(model.state_dict())\n",
    "        time_elapsed = time.time() - since\n",
    "        print('{:.0f}m {:.0f}s'.format(time_elapsed // 60, time_elapsed % 60))\n",
    "    print('Best val loss: {:4f}'.format(best_loss))\n",
    "    # load best model weights\n",
    "    model.load_state_dict(best_model_wts)\n",
    "    return model"
   ]
  },
  {
   "cell_type": "code",
   "execution_count": 21,
   "metadata": {
    "scrolled": false
   },
   "outputs": [
    {
     "name": "stdout",
     "output_type": "stream",
     "text": [
      "cuda:0\n",
      "Epoch 0/49\n",
      "----------\n",
      "LR 0.0001\n"
     ]
    },
    {
     "name": "stderr",
     "output_type": "stream",
     "text": [
      "D:\\Anaconda3\\envs\\python36\\lib\\site-packages\\torch\\optim\\lr_scheduler.py:82: UserWarning: Detected call of `lr_scheduler.step()` before `optimizer.step()`. In PyTorch 1.1.0 and later, you should call them in the opposite order: `optimizer.step()` before `lr_scheduler.step()`.  Failure to do this will result in PyTorch skipping the first value of the learning rate schedule.See more details at https://pytorch.org/docs/stable/optim.html#how-to-adjust-learning-rate\n",
      "  \"https://pytorch.org/docs/stable/optim.html#how-to-adjust-learning-rate\", UserWarning)\n",
      "D:\\Anaconda3\\envs\\python36\\lib\\site-packages\\torch\\nn\\functional.py:1350: UserWarning: nn.functional.sigmoid is deprecated. Use torch.sigmoid instead.\n",
      "  warnings.warn(\"nn.functional.sigmoid is deprecated. Use torch.sigmoid instead.\")\n"
     ]
    },
    {
     "ename": "KeyboardInterrupt",
     "evalue": "",
     "output_type": "error",
     "traceback": [
      "\u001b[1;31m---------------------------------------------------------------------------\u001b[0m",
      "\u001b[1;31mKeyboardInterrupt\u001b[0m                         Traceback (most recent call last)",
      "\u001b[1;32m<ipython-input-21-174e0301a21f>\u001b[0m in \u001b[0;36m<module>\u001b[1;34m\u001b[0m\n\u001b[0;32m      6\u001b[0m \u001b[0mexp_lr_scheduler\u001b[0m \u001b[1;33m=\u001b[0m \u001b[0mlr_scheduler\u001b[0m\u001b[1;33m.\u001b[0m\u001b[0mStepLR\u001b[0m\u001b[1;33m(\u001b[0m\u001b[0moptimizer_ft\u001b[0m\u001b[1;33m,\u001b[0m \u001b[0mstep_size\u001b[0m\u001b[1;33m=\u001b[0m\u001b[1;36m30\u001b[0m\u001b[1;33m,\u001b[0m \u001b[0mgamma\u001b[0m\u001b[1;33m=\u001b[0m\u001b[1;36m0.1\u001b[0m\u001b[1;33m)\u001b[0m\u001b[1;33m\u001b[0m\u001b[1;33m\u001b[0m\u001b[0m\n\u001b[0;32m      7\u001b[0m \u001b[1;33m\u001b[0m\u001b[0m\n\u001b[1;32m----> 8\u001b[1;33m \u001b[0mmodel\u001b[0m \u001b[1;33m=\u001b[0m \u001b[0mtrain_model\u001b[0m\u001b[1;33m(\u001b[0m\u001b[0mmodel\u001b[0m\u001b[1;33m,\u001b[0m \u001b[0moptimizer_ft\u001b[0m\u001b[1;33m,\u001b[0m \u001b[0mexp_lr_scheduler\u001b[0m\u001b[1;33m,\u001b[0m \u001b[0mnum_epochs\u001b[0m\u001b[1;33m=\u001b[0m\u001b[0mnum_epochs\u001b[0m\u001b[1;33m)\u001b[0m\u001b[1;33m\u001b[0m\u001b[1;33m\u001b[0m\u001b[0m\n\u001b[0m",
      "\u001b[1;32m<ipython-input-18-9a97cd9312bf>\u001b[0m in \u001b[0;36mtrain_model\u001b[1;34m(model, optimizer, scheduler, num_epochs)\u001b[0m\n\u001b[0;32m     45\u001b[0m             \u001b[0mepoch_samples\u001b[0m \u001b[1;33m=\u001b[0m \u001b[1;36m0\u001b[0m\u001b[1;33m\u001b[0m\u001b[1;33m\u001b[0m\u001b[0m\n\u001b[0;32m     46\u001b[0m             \u001b[1;32mfor\u001b[0m \u001b[0minputs\u001b[0m\u001b[1;33m,\u001b[0m \u001b[0mlabels\u001b[0m \u001b[1;32min\u001b[0m \u001b[0mdataloaders\u001b[0m\u001b[1;33m[\u001b[0m\u001b[0mphase\u001b[0m\u001b[1;33m]\u001b[0m\u001b[1;33m:\u001b[0m\u001b[1;33m\u001b[0m\u001b[1;33m\u001b[0m\u001b[0m\n\u001b[1;32m---> 47\u001b[1;33m                 \u001b[0minputs\u001b[0m \u001b[1;33m=\u001b[0m \u001b[0minputs\u001b[0m\u001b[1;33m.\u001b[0m\u001b[0mto\u001b[0m\u001b[1;33m(\u001b[0m\u001b[0mdevice\u001b[0m\u001b[1;33m)\u001b[0m\u001b[1;33m\u001b[0m\u001b[1;33m\u001b[0m\u001b[0m\n\u001b[0m\u001b[0;32m     48\u001b[0m                 \u001b[0mlabels\u001b[0m \u001b[1;33m=\u001b[0m \u001b[0mlabels\u001b[0m\u001b[1;33m.\u001b[0m\u001b[0mto\u001b[0m\u001b[1;33m(\u001b[0m\u001b[0mdevice\u001b[0m\u001b[1;33m)\u001b[0m\u001b[1;33m\u001b[0m\u001b[1;33m\u001b[0m\u001b[0m\n\u001b[0;32m     49\u001b[0m                 \u001b[1;31m# zero the parameter gradients\u001b[0m\u001b[1;33m\u001b[0m\u001b[1;33m\u001b[0m\u001b[1;33m\u001b[0m\u001b[0m\n",
      "\u001b[1;31mKeyboardInterrupt\u001b[0m: "
     ]
    }
   ],
   "source": [
    "device = torch.device(\"cuda:0\" if torch.cuda.is_available() else \"cpu\")\n",
    "print(device)\n",
    "\n",
    "optimizer_ft = optim.Adam(filter(lambda p: p.requires_grad, model.parameters()), lr=1e-4)\n",
    "\n",
    "exp_lr_scheduler = lr_scheduler.StepLR(optimizer_ft, step_size=30, gamma=0.1)\n",
    "\n",
    "model = train_model(model, optimizer_ft, exp_lr_scheduler, num_epochs=num_epochs)"
   ]
  },
  {
   "cell_type": "code",
   "execution_count": 15,
   "metadata": {
    "scrolled": true
   },
   "outputs": [],
   "source": [
    "#train values\n",
    "diceT= []\n",
    "bceT = []\n",
    "lossT = []\n",
    "accT = []\n",
    "dice_accT = []\n",
    "for i in range(num_epochs):\n",
    "    bceT.append(float(trains_loss[i][0][5:]))\n",
    "    diceT.append(float(trains_loss[i][1][6:]))\n",
    "    lossT.append(float(trains_loss[i][2][6:]))\n",
    "    accT.append(1-float(trains_loss[i][2][6:]))\n",
    "    dice_accT.append(1-float(trains_loss[i][1][6:]))"
   ]
  },
  {
   "cell_type": "code",
   "execution_count": 16,
   "metadata": {},
   "outputs": [],
   "source": [
    "#train values\n",
    "diceV= []\n",
    "bceV = []\n",
    "lossV = []\n",
    "accV = []\n",
    "dice_accV = []\n",
    "for i in range(num_epochs):\n",
    "    bceV.append(float(validation_loss[i][0][5:]))\n",
    "    diceV.append(float(validation_loss[i][1][6:]))\n",
    "    lossV.append(float(validation_loss[i][2][6:]))\n",
    "    accV.append(1-float(validation_loss[i][2][6:]))\n",
    "    dice_accV.append(1-float(validation_loss[i][1][6:]))"
   ]
  },
  {
   "cell_type": "code",
   "execution_count": 28,
   "metadata": {},
   "outputs": [
    {
     "data": {
      "image/png": "[encoded data removed]",
      "text/plain": [
       "<Figure size 432x288 with 1 Axes>"
      ]
     },
     "metadata": {
      "needs_background": "light"
     },
     "output_type": "display_data"
    }
   ],
   "source": [
    "import matplotlib.pyplot as plt\n",
    "plt.plot(dice_accV)\n",
    "plt.xlabel(\"Epochs\")\n",
    "plt.ylabel(\"Testing Dice coefficient\")\n",
    "plt.show()"
   ]
  },
  {
   "cell_type": "code",
   "execution_count": 29,
   "metadata": {},
   "outputs": [],
   "source": [
    "torch.save(model.state_dict(), r\"model_unet.pth\")"
   ]
  },
  {
   "cell_type": "code",
   "execution_count": 16,
   "metadata": {},
   "outputs": [
    {
     "name": "stdout",
     "output_type": "stream",
     "text": [
      "torch.Size([1, 224, 224])\n",
      "(1, 1, 224, 224)\n",
      "(50176, 1)\n"
     ]
    },
    {
     "data": {
      "text/plain": [
       "<matplotlib.image.AxesImage at 0x29187d2c390>"
      ]
     },
     "execution_count": 16,
     "metadata": {},
     "output_type": "execute_result"
    },
    {
     "data": {
      "image/png": "[encoded data removed]",
      "text/plain": [
       "<Figure size 432x288 with 1 Axes>"
      ]
     },
     "metadata": {
      "needs_background": "light"
     },
     "output_type": "display_data"
    },
    {
     "data": {
      "image/png": "[encoded data removed]",
      "text/plain": [
       "<Figure size 432x288 with 1 Axes>"
      ]
     },
     "metadata": {
      "needs_background": "light"
     },
     "output_type": "display_data"
    }
   ],
   "source": [
    "\"\"\"#device = torch.device('cpu')\n",
    "model = modified_ap3net_model.Unet()\n",
    "model.load_state_dict(torch.load(\"model.pth\", map_location=device))\n",
    "\n",
    "import math\n",
    "\n",
    "model.eval()   # Set model to the evaluation mode\n",
    "\n",
    "# Create another simulation dataset for test\n",
    "test_dataset = SimDataset(False)\n",
    "test_loader = DataLoader(test_dataset, batch_size=3, shuffle=False, num_workers=4)\n",
    "\n",
    "# Get the first batch\n",
    "inputs, labels = next(iter(test_dataset))\n",
    "print(inputs.shape)\n",
    "inputs = torch.unsqueeze(inputs, 0)\n",
    "labels = torch.unsqueeze(labels, 0)\n",
    "inputs = inputs.to(device)\n",
    "labels = labels.to(device)\n",
    "\n",
    "# Predict\n",
    "pred = model(inputs)\n",
    "# The loss functions include the sigmoid function.\n",
    "pred = F.sigmoid(pred)\n",
    "pred = pred.data.cpu().numpy()\n",
    "print(pred.shape)\n",
    "\n",
    "print(pred.reshape((224 *224, -1)).shape)\n",
    "plt.hist(pred.reshape((224*224, -1)))\n",
    "plt.figure()\n",
    "plt.imshow(255 * pred.reshape((224,224)), cmap = 'gray')\n",
    "# Change channel-order and make 3 channels for matplot\n",
    "#input_images_rgb = [reverse_transform(x) for x in inputs.cpu()]\n",
    "\n",
    "# Map each channel (i.e. class) to each color\n",
    "#target_masks_rgb = [helper.masks_to_colorimg(x) for x in labels.cpu().numpy()]\n",
    "#pred_rgb = [helper.masks_to_colorimg(x) for x in pred]\n",
    "\n",
    "#helper.plot_side_by_side([input_images_rgb, target_masks_rgb, pred_rgb])\"\"\""
   ]
  },
  {
   "cell_type": "code",
   "execution_count": null,
   "metadata": {},
   "outputs": [],
   "source": [
    "\"\"\"inputs, masks = next(iter(dataloaders['val']))\n",
    "print(inputs.shape)\"\"\""
   ]
  }
 ],
 "metadata": {
  "kernelspec": {
   "display_name": "Python 3",
   "language": "python",
   "name": "python3"
  },
  "language_info": {
   "codemirror_mode": {
    "name": "ipython",
    "version": 3
   },
   "file_extension": ".py",
   "mimetype": "text/x-python",
   "name": "python",
   "nbconvert_exporter": "python",
   "pygments_lexer": "ipython3",
   "version": "3.6.8"
  }
 },
 "nbformat": 4,
 "nbformat_minor": 4
}
